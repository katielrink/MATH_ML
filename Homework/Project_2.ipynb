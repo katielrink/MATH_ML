{
 "cells": [
  {
   "cell_type": "markdown",
   "metadata": {},
   "source": [
    "# Project 1: Errors in Regression \n",
    "Math 4377, Fall 2022 <br /> \n",
    "Katie Rink : *11.08.2022*"
   ]
  },
  {
   "cell_type": "markdown",
   "metadata": {},
   "source": [
    "## Overview"
   ]
  },
  {
   "cell_type": "markdown",
   "metadata": {},
   "source": [
    "We are trying to study the usage of historical data and recurrent neural network to predict a stock price or an index. I chose to utilize regression. "
   ]
  },
  {
   "cell_type": "markdown",
   "metadata": {},
   "source": [
    "## Data Generation"
   ]
  },
  {
   "cell_type": "markdown",
   "metadata": {},
   "source": [
    "I got the below data from finance.yahoo.com. It is ____"
   ]
  },
  {
   "cell_type": "markdown",
   "metadata": {},
   "source": [
    "I then needed to clean the data. I did that via. "
   ]
  },
  {
   "cell_type": "markdown",
   "metadata": {},
   "source": [
    "## Recurrent Neural Network"
   ]
  },
  {
   "cell_type": "markdown",
   "metadata": {},
   "source": [
    "Below I set up a neural network ot predict the stock price based on the history I had downloaded. The RNN has the dimensions of , with number of time steps. There are neurons in the hidden layer, and I used the activation function. Finally, I opted to use LSTM with parameters. "
   ]
  },
  {
   "cell_type": "code",
   "execution_count": null,
   "metadata": {},
   "outputs": [],
   "source": []
  }
 ],
 "metadata": {
  "kernelspec": {
   "display_name": "csaps-conda-env",
   "language": "python",
   "name": "csaps-conda-env"
  },
  "language_info": {
   "codemirror_mode": {
    "name": "ipython",
    "version": 3
   },
   "file_extension": ".py",
   "mimetype": "text/x-python",
   "name": "python",
   "nbconvert_exporter": "python",
   "pygments_lexer": "ipython3",
   "version": "3.6.7"
  }
 },
 "nbformat": 4,
 "nbformat_minor": 4
}
