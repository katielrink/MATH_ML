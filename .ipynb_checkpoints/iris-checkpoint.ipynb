{
 "cells": [
  {
   "cell_type": "code",
   "execution_count": 1,
   "id": "ef7f1d79",
   "metadata": {},
   "outputs": [],
   "source": [
    "# Imports related modules\n",
    "import numpy as np\n",
    "import matplotlib.pyplot as plt\n",
    "import statsmodels.api as sm\n",
    "from sklearn.linear_model import LogisticRegression\n",
    "from sklearn import datasets\n",
    "from sklearn.naive_bayes import GaussianNB\n",
    "from sklearn.neighbors import KNeighborsClassifier\n",
    "from sklearn.discriminant_analysis import LinearDiscriminantAnalysis\n",
    "from sklearn.discriminant_analysis import QuadraticDiscriminantAnalysis"
   ]
  },
  {
   "cell_type": "code",
   "execution_count": 2,
   "id": "02fe6832",
   "metadata": {},
   "outputs": [
    {
     "name": "stdout",
     "output_type": "stream",
     "text": [
      "(150, 4) (150,)\n",
      "['sepal length (cm)', 'sepal width (cm)', 'petal length (cm)', 'petal width (cm)']\n",
      "['setosa' 'versicolor' 'virginica']\n"
     ]
    }
   ],
   "source": [
    "# load dataset and check content\n",
    "n_f=[0,1,2,3]; # number of picked features\n",
    "iris = datasets.load_iris()\n",
    "#print(iris)\n",
    "X=iris.data[:,n_f]\n",
    "Y=iris.target\n",
    "print(X.shape, Y.shape)\n",
    "print(iris.feature_names)\n",
    "print(iris.target_names)"
   ]
  },
  {
   "cell_type": "code",
   "execution_count": 3,
   "id": "25345e02",
   "metadata": {},
   "outputs": [
    {
     "data": {
      "text/plain": [
       "0.9866666666666667"
      ]
     },
     "execution_count": 3,
     "metadata": {},
     "output_type": "execute_result"
    }
   ],
   "source": [
    "# logistic regression\n",
    "logreg = LogisticRegression(C=1e5)\n",
    "logreg.fit(X,Y)\n",
    "Y_hat=logreg.predict(X)\n",
    "logreg.score(X,Y)"
   ]
  },
  {
   "cell_type": "code",
   "execution_count": 4,
   "id": "cecbf3b9",
   "metadata": {},
   "outputs": [
    {
     "data": {
      "text/plain": [
       "0.96"
      ]
     },
     "execution_count": 4,
     "metadata": {},
     "output_type": "execute_result"
    }
   ],
   "source": [
    "# Naive Bayes\n",
    "gaussian = GaussianNB()\n",
    "gaussian.fit(X,Y)\n",
    "Y_hat=gaussian.predict(X)\n",
    "gaussian.score(X,Y)"
   ]
  },
  {
   "cell_type": "code",
   "execution_count": 5,
   "id": "7342da69",
   "metadata": {},
   "outputs": [
    {
     "data": {
      "text/plain": [
       "0.9666666666666667"
      ]
     },
     "execution_count": 5,
     "metadata": {},
     "output_type": "execute_result"
    }
   ],
   "source": [
    "# KNN\n",
    "knn = KNeighborsClassifier()\n",
    "knn.fit(X,Y)\n",
    "Y_hat=knn.predict(X)\n",
    "knn.score(X,Y)\n"
   ]
  },
  {
   "cell_type": "code",
   "execution_count": 6,
   "id": "f1b0492a",
   "metadata": {},
   "outputs": [
    {
     "data": {
      "text/plain": [
       "0.98"
      ]
     },
     "execution_count": 6,
     "metadata": {},
     "output_type": "execute_result"
    }
   ],
   "source": [
    "# LDA\n",
    "lda = LinearDiscriminantAnalysis()\n",
    "lda.fit(X,Y)\n",
    "Y_hat=knn.predict(X)\n",
    "lda.score(X,Y)"
   ]
  },
  {
   "cell_type": "code",
   "execution_count": 7,
   "id": "e0330909",
   "metadata": {},
   "outputs": [
    {
     "data": {
      "text/plain": [
       "0.98"
      ]
     },
     "execution_count": 7,
     "metadata": {},
     "output_type": "execute_result"
    }
   ],
   "source": [
    "# QDA\n",
    "qda = QuadraticDiscriminantAnalysis()\n",
    "qda.fit(X,Y)\n",
    "Y_hat=knn.predict(X)\n",
    "qda.score(X,Y)"
   ]
  },
  {
   "cell_type": "code",
   "execution_count": 30,
   "id": "f705a048",
   "metadata": {},
   "outputs": [
    {
     "name": "stdout",
     "output_type": "stream",
     "text": [
      "Optimization terminated successfully.\n",
      "         Current function value: 0.247872\n",
      "         Iterations 9\n",
      "                           Logit Regression Results                           \n",
      "==============================================================================\n",
      "Dep. Variable:                      y   No. Observations:                  150\n",
      "Model:                          Logit   Df Residuals:                      145\n",
      "Method:                           MLE   Df Model:                            4\n",
      "Date:                Sun, 11 Sep 2022   Pseudo R-squ.:                  0.6424\n",
      "Time:                        12:51:32   Log-Likelihood:                -37.181\n",
      "converged:                       True   LL-Null:                       -103.97\n",
      "Covariance Type:            nonrobust   LLR p-value:                 6.669e-28\n",
      "==============================================================================\n",
      "                 coef    std err          z      P>|z|      [0.025      0.975]\n",
      "------------------------------------------------------------------------------\n",
      "const         -1.6330      3.126     -0.522      0.601      -7.760       4.494\n",
      "x1            -0.4325      0.848     -0.510      0.610      -2.094       1.229\n",
      "x2            -1.6211      1.150     -1.409      0.159      -3.876       0.634\n",
      "x3             0.9968      1.013      0.984      0.325      -0.988       2.982\n",
      "x4             3.5189      1.871      1.880      0.060      -0.149       7.187\n",
      "==============================================================================\n",
      "[-6.02903957e-04 -1.47721753e-03 -1.05462595e-03 -1.57993264e-03\n",
      " -5.35375456e-04 -7.54653412e-04 -1.25056908e-03 -8.17770778e-04\n",
      " -2.15509697e-03 -9.76625335e-04 -4.23121121e-04 -9.84955772e-04\n",
      " -1.08536073e-03 -9.99198160e-04 -1.62317166e-04 -2.41561417e-04\n",
      " -5.06627119e-04 -8.56961898e-04 -5.48360701e-04 -5.82326286e-04\n",
      " -8.39601797e-04 -9.73245379e-04 -4.27238850e-04 -3.22298846e-03\n",
      " -1.32783104e-03 -1.72638029e-03 -1.82445487e-03 -6.37883854e-04\n",
      " -6.78944242e-04 -1.42171975e-03 -1.60086642e-03 -1.38962739e-03\n",
      " -1.69710543e-04 -1.63114495e-04 -1.38794717e-03 -8.38593519e-04\n",
      " -4.59078256e-04 -3.93259712e-04 -1.65954355e-03 -7.83183582e-04\n",
      " -8.09978065e-04 -6.99066561e-03 -1.20056075e-03 -3.13191104e-03\n",
      " -1.23274812e-03 -2.19149517e-03 -4.52575147e-04 -1.21647406e-03\n",
      " -4.41814158e-04 -8.70400347e-04  5.88160887e-02 -4.38031244e-02\n",
      " -1.27206984e-01 -1.94591919e-01 -2.06930614e-01 -1.04214570e-01\n",
      " -1.47498403e-01  1.97280942e-01  7.15270484e-03 -1.35342174e-01\n",
      "  7.45945827e-03 -1.02783231e-01  7.15394370e-02 -1.54574340e-01\n",
      "  1.44040787e-01  6.05887452e-02 -1.99700654e-01  2.13508715e-01\n",
      " -3.67981625e-01  8.64356623e-02 -3.51527069e-01  6.17716833e-02\n",
      " -3.52254138e-01 -2.43644056e-02  6.00000533e-02  9.54770876e-03\n",
      " -1.45255923e-01 -3.28114317e-01 -1.97407170e-01  2.86713444e-01\n",
      "  6.05948159e-02  1.67111389e-01  1.00625658e-01 -3.91792408e-01\n",
      " -2.17556252e-01 -9.29894158e-02 -1.00461077e-01 -2.05662634e-01\n",
      "  6.38097269e-02 -1.21862743e-01 -9.44029106e-02 -9.32502253e-02\n",
      "  3.65056936e-02  1.71621062e-01 -8.16048258e-02  1.34621454e-01\n",
      "  9.52340172e-03  3.85888952e-02  2.36944575e-01 -6.08111488e-03\n",
      "  6.23732704e-03  3.72783945e-02  2.40323549e-02  5.42993599e-02\n",
      "  1.45467702e-02  1.49856858e-02  6.51963468e-02  4.21806284e-02\n",
      "  2.84095744e-02  1.34522778e-02  7.65650629e-02  3.94975179e-02\n",
      "  3.12179754e-02  2.04117756e-02  7.77765323e-03  2.21342943e-02\n",
      "  7.52209624e-02  3.56732244e-02  3.03783917e-03  7.81218745e-02\n",
      "  1.85105967e-02  3.46141011e-02  1.45670677e-02  7.69983519e-02\n",
      "  3.94928933e-02  8.46656972e-02  9.40372730e-02  1.10659144e-01\n",
      "  1.74306599e-02  1.41650696e-01  3.24810123e-02  9.90609324e-02\n",
      "  1.23237096e-02  1.87637216e-01  1.16842794e-01  1.27716140e-02\n",
      "  1.53946835e-02  8.39178502e-02  1.16336183e-01  4.18863506e-02\n",
      "  1.13005316e-02  2.83398448e-02  3.72783945e-02  1.45810640e-02\n",
      "  9.96264760e-03  2.01730959e-02  3.69822717e-02  5.14728542e-02\n",
      "  2.53274529e-02  8.54976807e-02]\n"
     ]
    }
   ],
   "source": [
    "# we use a different logistic regression module from statsmodels.api, which has a summary.\n",
    "Y=Y/Y.max()\n",
    "logit_model=sm.Logit(Y,X)\n",
    "result=logit_model.fit()\n",
    "Y_hat=result.predict(X)\n",
    "print(result.summary())\n",
    "print(Y-Y_hat)"
   ]
  },
  {
   "cell_type": "code",
   "execution_count": 19,
   "id": "130ad708",
   "metadata": {},
   "outputs": [
    {
     "data": {
      "image/png": "[encoded data removed]",
      "text/plain": [
       "<Figure size 400x300 with 1 Axes>"
      ]
     },
     "metadata": {},
     "output_type": "display_data"
    }
   ],
   "source": [
    "# Plot the decision boundary. For that, we will assign a color to each\n",
    "# point in the mesh [x_min, x_max]x[y_min, y_max].\n",
    "x_min, x_max = X[:, 0].min() - .5, X[:, 0].max() + .5\n",
    "y_min, y_max = X[:, 1].min() - .5, X[:, 1].max() + .5\n",
    "h = .02  # step size in the mesh\n",
    "xx, yy = np.meshgrid(np.arange(x_min, x_max, h), np.arange(y_min, y_max, h))\n",
    "# np.c_: concatenation\n",
    "Z = logreg.predict(np.c_[xx.ravel(), yy.ravel()])\n",
    "\n",
    "# Put the result into a color plot\n",
    "Z = Z.reshape(xx.shape)\n",
    "plt.figure(1, figsize=(4, 3))\n",
    "plt.pcolormesh(xx, yy, Z, cmap=plt.cm.Paired)\n",
    "\n",
    "# Plot also the training points\n",
    "plt.scatter(X[:, 0], X[:, 1], c=Y, edgecolors='k', cmap=plt.cm.Paired)\n",
    "plt.xlabel('Sepal length')\n",
    "plt.ylabel('Sepal width')\n",
    "\n",
    "plt.xlim(xx.min(), xx.max())\n",
    "plt.ylim(yy.min(), yy.max())\n",
    "plt.xticks(())\n",
    "plt.yticks(())\n",
    "\n",
    "plt.show()\n"
   ]
  },
  {
   "cell_type": "code",
   "execution_count": null,
   "id": "a5331e8f",
   "metadata": {},
   "outputs": [],
   "source": []
  }
 ],
 "metadata": {
  "kernelspec": {
   "display_name": "Python 3",
   "language": "python",
   "name": "python3"
  },
  "language_info": {
   "codemirror_mode": {
    "name": "ipython",
    "version": 3
   },
   "file_extension": ".py",
   "mimetype": "text/x-python",
   "name": "python",
   "nbconvert_exporter": "python",
   "pygments_lexer": "ipython3",
   "version": "3.9.6"
  }
 },
 "nbformat": 4,
 "nbformat_minor": 5
}
