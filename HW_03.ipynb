{
 "cells": [
  {
   "cell_type": "markdown",
   "id": "7a2bff52-9573-4012-83a5-d4340ebc28b4",
   "metadata": {},
   "source": [
    "### Exercise 4.8, Problem 13"
   ]
  },
  {
   "cell_type": "code",
   "execution_count": 67,
   "id": "cb7d0d79-e3c0-4840-bd2b-6dbd771e4ece",
   "metadata": {},
   "outputs": [],
   "source": [
    "#imports\n",
    "import pandas as pd\n",
    "import seaborn as sn\n",
    "import numpy as np\n",
    "from sklearn import metrics\n",
    "import matplotlib.pyplot as plt\n",
    "\n",
    "%matplotlib inline\n",
    "\n",
    "# Load StatsModels API\n",
    "import statsmodels.api as sm\n",
    "import statsmodels.formula.api as smf\n",
    "from sklearn.discriminant_analysis import LinearDiscriminantAnalysis as LDA\n",
    "from sklearn.discriminant_analysis import QuadraticDiscriminantAnalysis \n"
   ]
  },
  {
   "cell_type": "markdown",
   "id": "841158bb-6aa3-4a44-a9e6-27cd9eacdbf4",
   "metadata": {
    "tags": []
   },
   "source": [
    "#### PART A : \n",
    "Produce some numerical and graphical summaries of the Weekly data. Do there appear to be any patterns?"
   ]
  },
  {
   "cell_type": "code",
   "execution_count": 43,
   "id": "9c234dd3-19b2-4c3b-967c-03e8d7508c00",
   "metadata": {},
   "outputs": [
    {
     "name": "stdout",
     "output_type": "stream",
     "text": [
      "<class 'pandas.core.frame.DataFrame'>\n",
      "RangeIndex: 1089 entries, 0 to 1088\n",
      "Data columns (total 9 columns):\n",
      " #   Column     Non-Null Count  Dtype  \n",
      "---  ------     --------------  -----  \n",
      " 0   Year       1089 non-null   int64  \n",
      " 1   Lag1       1089 non-null   float64\n",
      " 2   Lag2       1089 non-null   float64\n",
      " 3   Lag3       1089 non-null   float64\n",
      " 4   Lag4       1089 non-null   float64\n",
      " 5   Lag5       1089 non-null   float64\n",
      " 6   Volume     1089 non-null   float64\n",
      " 7   Today      1089 non-null   float64\n",
      " 8   Direction  1089 non-null   object \n",
      "dtypes: float64(7), int64(1), object(1)\n",
      "memory usage: 76.7+ KB\n"
     ]
    }
   ],
   "source": [
    "df = pd.read_csv('Data/Weekly.csv');\n",
    "df.info()"
   ]
  },
  {
   "cell_type": "markdown",
   "id": "7e4f2b44-4e22-4937-ba77-8821496ec758",
   "metadata": {},
   "source": [
    "*By looking at the info above, we can see that there are 1089 entries in 9 columns. They are all float64 data types, aside from year, which is an int64, and direction, which is an object.*"
   ]
  },
  {
   "cell_type": "code",
   "execution_count": 44,
   "id": "4fffe4ae-8533-4c58-a484-b3e78ee487eb",
   "metadata": {},
   "outputs": [
    {
     "data": {
      "text/html": [
       "<div>\n",
       "<style scoped>\n",
       "    .dataframe tbody tr th:only-of-type {\n",
       "        vertical-align: middle;\n",
       "    }\n",
       "\n",
       "    .dataframe tbody tr th {\n",
       "        vertical-align: top;\n",
       "    }\n",
       "\n",
       "    .dataframe thead th {\n",
       "        text-align: right;\n",
       "    }\n",
       "</style>\n",
       "<table border=\"1\" class=\"dataframe\">\n",
       "  <thead>\n",
       "    <tr style=\"text-align: right;\">\n",
       "      <th></th>\n",
       "      <th>Year</th>\n",
       "      <th>Lag1</th>\n",
       "      <th>Lag2</th>\n",
       "      <th>Lag3</th>\n",
       "      <th>Lag4</th>\n",
       "      <th>Lag5</th>\n",
       "      <th>Volume</th>\n",
       "      <th>Today</th>\n",
       "    </tr>\n",
       "  </thead>\n",
       "  <tbody>\n",
       "    <tr>\n",
       "      <th>count</th>\n",
       "      <td>1089.000000</td>\n",
       "      <td>1089.000000</td>\n",
       "      <td>1089.000000</td>\n",
       "      <td>1089.000000</td>\n",
       "      <td>1089.000000</td>\n",
       "      <td>1089.000000</td>\n",
       "      <td>1089.000000</td>\n",
       "      <td>1089.000000</td>\n",
       "    </tr>\n",
       "    <tr>\n",
       "      <th>mean</th>\n",
       "      <td>2000.048669</td>\n",
       "      <td>0.150585</td>\n",
       "      <td>0.151079</td>\n",
       "      <td>0.147205</td>\n",
       "      <td>0.145818</td>\n",
       "      <td>0.139893</td>\n",
       "      <td>1.574618</td>\n",
       "      <td>0.149899</td>\n",
       "    </tr>\n",
       "    <tr>\n",
       "      <th>std</th>\n",
       "      <td>6.033182</td>\n",
       "      <td>2.357013</td>\n",
       "      <td>2.357254</td>\n",
       "      <td>2.360502</td>\n",
       "      <td>2.360279</td>\n",
       "      <td>2.361285</td>\n",
       "      <td>1.686636</td>\n",
       "      <td>2.356927</td>\n",
       "    </tr>\n",
       "    <tr>\n",
       "      <th>min</th>\n",
       "      <td>1990.000000</td>\n",
       "      <td>-18.195000</td>\n",
       "      <td>-18.195000</td>\n",
       "      <td>-18.195000</td>\n",
       "      <td>-18.195000</td>\n",
       "      <td>-18.195000</td>\n",
       "      <td>0.087465</td>\n",
       "      <td>-18.195000</td>\n",
       "    </tr>\n",
       "    <tr>\n",
       "      <th>25%</th>\n",
       "      <td>1995.000000</td>\n",
       "      <td>-1.154000</td>\n",
       "      <td>-1.154000</td>\n",
       "      <td>-1.158000</td>\n",
       "      <td>-1.158000</td>\n",
       "      <td>-1.166000</td>\n",
       "      <td>0.332022</td>\n",
       "      <td>-1.154000</td>\n",
       "    </tr>\n",
       "    <tr>\n",
       "      <th>50%</th>\n",
       "      <td>2000.000000</td>\n",
       "      <td>0.241000</td>\n",
       "      <td>0.241000</td>\n",
       "      <td>0.241000</td>\n",
       "      <td>0.238000</td>\n",
       "      <td>0.234000</td>\n",
       "      <td>1.002680</td>\n",
       "      <td>0.241000</td>\n",
       "    </tr>\n",
       "    <tr>\n",
       "      <th>75%</th>\n",
       "      <td>2005.000000</td>\n",
       "      <td>1.405000</td>\n",
       "      <td>1.409000</td>\n",
       "      <td>1.409000</td>\n",
       "      <td>1.409000</td>\n",
       "      <td>1.405000</td>\n",
       "      <td>2.053727</td>\n",
       "      <td>1.405000</td>\n",
       "    </tr>\n",
       "    <tr>\n",
       "      <th>max</th>\n",
       "      <td>2010.000000</td>\n",
       "      <td>12.026000</td>\n",
       "      <td>12.026000</td>\n",
       "      <td>12.026000</td>\n",
       "      <td>12.026000</td>\n",
       "      <td>12.026000</td>\n",
       "      <td>9.328214</td>\n",
       "      <td>12.026000</td>\n",
       "    </tr>\n",
       "  </tbody>\n",
       "</table>\n",
       "</div>"
      ],
      "text/plain": [
       "              Year         Lag1         Lag2         Lag3         Lag4  \\\n",
       "count  1089.000000  1089.000000  1089.000000  1089.000000  1089.000000   \n",
       "mean   2000.048669     0.150585     0.151079     0.147205     0.145818   \n",
       "std       6.033182     2.357013     2.357254     2.360502     2.360279   \n",
       "min    1990.000000   -18.195000   -18.195000   -18.195000   -18.195000   \n",
       "25%    1995.000000    -1.154000    -1.154000    -1.158000    -1.158000   \n",
       "50%    2000.000000     0.241000     0.241000     0.241000     0.238000   \n",
       "75%    2005.000000     1.405000     1.409000     1.409000     1.409000   \n",
       "max    2010.000000    12.026000    12.026000    12.026000    12.026000   \n",
       "\n",
       "              Lag5       Volume        Today  \n",
       "count  1089.000000  1089.000000  1089.000000  \n",
       "mean      0.139893     1.574618     0.149899  \n",
       "std       2.361285     1.686636     2.356927  \n",
       "min     -18.195000     0.087465   -18.195000  \n",
       "25%      -1.166000     0.332022    -1.154000  \n",
       "50%       0.234000     1.002680     0.241000  \n",
       "75%       1.405000     2.053727     1.405000  \n",
       "max      12.026000     9.328214    12.026000  "
      ]
     },
     "execution_count": 44,
     "metadata": {},
     "output_type": "execute_result"
    }
   ],
   "source": [
    "df.describe()"
   ]
  },
  {
   "cell_type": "markdown",
   "id": "c070ca99-33c2-4174-bdf1-d5ac2b8f57e4",
   "metadata": {},
   "source": [
    "*Add Description*"
   ]
  },
  {
   "cell_type": "code",
   "execution_count": 45,
   "id": "fcdb2ef7-e1bb-4b76-8274-b0230d272e54",
   "metadata": {},
   "outputs": [
    {
     "data": {
      "text/plain": [
       "<AxesSubplot:>"
      ]
     },
     "execution_count": 45,
     "metadata": {},
     "output_type": "execute_result"
    },
    {
     "data": {
      "image/png": "[encoded data removed]",
      "text/plain": [
       "<Figure size 640x480 with 2 Axes>"
      ]
     },
     "metadata": {},
     "output_type": "display_data"
    }
   ],
   "source": [
    "corrMatrix = df.corr()\n",
    "sn.heatmap(corrMatrix, annot=True)"
   ]
  },
  {
   "cell_type": "markdown",
   "id": "32d441c1-0bfb-410c-af10-9502fbef5ca2",
   "metadata": {},
   "source": [
    "*The only variables that appear to have significant linear relationship are Volume and Year*"
   ]
  },
  {
   "cell_type": "markdown",
   "id": "af58786a-276d-419d-bf01-9a5ecc89715c",
   "metadata": {
    "tags": []
   },
   "source": [
    "#### PART B : \n",
    "Use the full data set to perform a logistic regression with Direction as the response and the five lag variables plus Volume as predictors. Use the summary function to print the results. Do any of the predictors appear to be statistically significant? If so, which ones?"
   ]
  },
  {
   "cell_type": "code",
   "execution_count": 46,
   "id": "e5ac2bec-5c34-4f55-baf3-26c2730d2876",
   "metadata": {
    "scrolled": true,
    "tags": []
   },
   "outputs": [
    {
     "name": "stdout",
     "output_type": "stream",
     "text": [
      "                          Generalized Linear Model Regression Results                           \n",
      "================================================================================================\n",
      "Dep. Variable:     ['Direction[Down]', 'Direction[Up]']   No. Observations:                 1089\n",
      "Model:                                              GLM   Df Residuals:                     1082\n",
      "Model Family:                                  Binomial   Df Model:                            6\n",
      "Link Function:                                    Logit   Scale:                          1.0000\n",
      "Method:                                            IRLS   Log-Likelihood:                -743.18\n",
      "Date:                                  Tue, 04 Oct 2022   Deviance:                       1486.4\n",
      "Time:                                          10:58:16   Pearson chi2:                 1.09e+03\n",
      "No. Iterations:                                       4   Pseudo R-squ. (CS):           0.009000\n",
      "Covariance Type:                              nonrobust                                         \n",
      "==============================================================================\n",
      "                 coef    std err          z      P>|z|      [0.025      0.975]\n",
      "------------------------------------------------------------------------------\n",
      "Intercept     -0.2669      0.086     -3.106      0.002      -0.435      -0.098\n",
      "Lag1           0.0413      0.026      1.563      0.118      -0.010       0.093\n",
      "Lag2          -0.0584      0.027     -2.175      0.030      -0.111      -0.006\n",
      "Lag3           0.0161      0.027      0.602      0.547      -0.036       0.068\n",
      "Lag4           0.0278      0.026      1.050      0.294      -0.024       0.080\n",
      "Lag5           0.0145      0.026      0.549      0.583      -0.037       0.066\n",
      "Volume         0.0227      0.037      0.616      0.538      -0.050       0.095\n",
      "==============================================================================\n"
     ]
    }
   ],
   "source": [
    "model = sm.formula.glm(\"Direction~Lag1+Lag2+Lag3+Lag4+Lag5+Volume\", family=sm.families.Binomial(), data=df).fit()\n",
    "print(model.summary())"
   ]
  },
  {
   "cell_type": "markdown",
   "id": "c6eb0508-2128-44cf-ae13-9ddb87ac6382",
   "metadata": {},
   "source": [
    "*The only value at the level of significane is Lag2. The other values fail to reject the null hypotheses of β = 0*"
   ]
  },
  {
   "cell_type": "markdown",
   "id": "02d27cd0-5d98-44a5-a562-1e1835563a7f",
   "metadata": {},
   "source": [
    "#### PART C : \n",
    "Compute the confusion matrix and overall fraction of correct predictions. Explain what the confusion matrix is telling you about the types of mistakes made by logistic regression."
   ]
  },
  {
   "cell_type": "code",
   "execution_count": 47,
   "id": "20f08cdb-bdf1-4d33-a482-c460ae17d384",
   "metadata": {
    "scrolled": false
   },
   "outputs": [
    {
     "data": {
      "text/plain": [
       "{'Direction': ['Down', 'Up'], 'Down': [54, 478], 'Up': [611, 557]}"
      ]
     },
     "execution_count": 47,
     "metadata": {},
     "output_type": "execute_result"
    }
   ],
   "source": [
    "#Create a confusion matrix\n",
    "probs = model.predict()\n",
    "pred = np.tile([0], len(probs))\n",
    "pred[probs>.5]=1\n",
    "\n",
    "df.loc[df[\"Direction\"] == \"Up\", \"Direction\"] = 1\n",
    "df.loc[df[\"Direction\"] == \"Down\", \"Direction\"] = 0\n",
    "\n",
    "diff = df.Direction - pred\n",
    "\n",
    "cunf_mat = {\"Direction\":['Down', 'Up'], \"Down\":[len(np.where(diff == -1)[0]), len(np.where(diff == 0)[0])], \"Up\":[len(np.where(diff != 0)[0]), len(np.where(diff == 1)[0])]}\n",
    "cunf_mat"
   ]
  },
  {
   "cell_type": "markdown",
   "id": "7b78545c",
   "metadata": {},
   "source": [
    "It can be concluded from the above output, the percentage of correct predictions is (54+557)/1089, which is roughly 56%. Resultantly the error rate is 43%. "
   ]
  },
  {
   "cell_type": "markdown",
   "id": "542ef461-d874-4df5-989e-1cc6a4b8ee19",
   "metadata": {},
   "source": [
    "#### PART D : \n",
    "Now fit the logistic regression model using a training data period from 1990 to 2008, with Lag2 as the only predictor. Compute the confusion matrix and the overall fraction of correct predictions for the held out data (that is, the data from 2009 and 2010)."
   ]
  },
  {
   "cell_type": "code",
   "execution_count": 48,
   "id": "925ec772",
   "metadata": {
    "scrolled": true
   },
   "outputs": [
    {
     "name": "stdout",
     "output_type": "stream",
     "text": [
      "                        Generalized Linear Model Regression Results                         \n",
      "============================================================================================\n",
      "Dep. Variable:     ['Direction[0]', 'Direction[1]']   No. Observations:                  985\n",
      "Model:                                          GLM   Df Residuals:                      983\n",
      "Model Family:                              Binomial   Df Model:                            1\n",
      "Link Function:                                Logit   Scale:                          1.0000\n",
      "Method:                                        IRLS   Log-Likelihood:                -675.27\n",
      "Date:                              Tue, 04 Oct 2022   Deviance:                       1350.5\n",
      "Time:                                      10:58:20   Pearson chi2:                     985.\n",
      "No. Iterations:                                   4   Pseudo R-squ. (CS):           0.004221\n",
      "Covariance Type:                          nonrobust                                         \n",
      "==============================================================================\n",
      "                 coef    std err          z      P>|z|      [0.025      0.975]\n",
      "------------------------------------------------------------------------------\n",
      "Intercept     -0.2033      0.064     -3.162      0.002      -0.329      -0.077\n",
      "Lag2          -0.0581      0.029     -2.024      0.043      -0.114      -0.002\n",
      "==============================================================================\n"
     ]
    },
    {
     "data": {
      "text/plain": [
       "{'Direction': ['Down', 'Up'], 'Down': [23, 438], 'Up': [547, 524]}"
      ]
     },
     "execution_count": 48,
     "metadata": {},
     "output_type": "execute_result"
    }
   ],
   "source": [
    "train = df[df.Year < 2009]\n",
    "model2 = sm.formula.glm(\"Direction~Lag2\", family=sm.families.Binomial(), data=train).fit()\n",
    "print(model2.summary())\n",
    "prod2 = model2.predict()\n",
    "pred2 = np.tile([0], len(prod2))\n",
    "pred2[prod2>.5]=1\n",
    "\n",
    "diff2 = train.Direction - pred2\n",
    "cunf_mat = {\"Direction\":['Down', 'Up'], \"Down\":[len(np.where(diff2 == -1)[0]), len(np.where(diff2 == 0)[0])], \"Up\":[len(np.where(diff2 != 0)[0]), len(np.where(diff2 == 1)[0])]}\n",
    "cunf_mat"
   ]
  },
  {
   "cell_type": "markdown",
   "id": "654b48af",
   "metadata": {},
   "source": [
    "The percentage of correct prediction is (23+542)/985 = 57.36%"
   ]
  },
  {
   "cell_type": "markdown",
   "id": "583b3a98-3aa7-4a74-9e3a-4cd3bd7a95ea",
   "metadata": {},
   "source": [
    "#### PART E : \n",
    "Repeat (d) using LDA."
   ]
  },
  {
   "cell_type": "code",
   "execution_count": 66,
   "id": "99190abf",
   "metadata": {},
   "outputs": [
    {
     "data": {
      "text/plain": [
       "{'Direction': ['Down', 'Up'], 'Down': [441, 544], 'Up': [441, 0]}"
      ]
     },
     "execution_count": 66,
     "metadata": {},
     "output_type": "execute_result"
    }
   ],
   "source": [
    "lda = LDA()\n",
    "model2 = lda.fit(train[['Lag1', 'Lag2', 'Lag3', 'Lag4', 'Lag5', 'Volume']], train.Year)\n",
    "\n",
    "prod2 = lda.predict(train[['Lag1', 'Lag2', 'Lag3', 'Lag4', 'Lag5', 'Volume']])\n",
    "pred2 = np.tile([0], len(prod2))\n",
    "pred2[prod2>.5]=1\n",
    "\n",
    "diff2 = train.Direction - pred2\n",
    "cunf_mat = {\"Direction\":['Down', 'Up'], \"Down\":[len(np.where(diff2 == -1)[0]), len(np.where(diff2 == 0)[0])], \"Up\":[len(np.where(diff2 != 0)[0]), len(np.where(diff2 == 1)[0])]}\n",
    "cunf_mat"
   ]
  },
  {
   "cell_type": "markdown",
   "id": "36f01f86",
   "metadata": {},
   "source": [
    "The percentage of correct prediction is (441+544)/985 = 69%"
   ]
  },
  {
   "cell_type": "markdown",
   "id": "d2394e15-ca0c-4920-88ce-345c7dbd3208",
   "metadata": {},
   "source": [
    "#### PART F : \n",
    "Repeat (d) using QDA."
   ]
  },
  {
   "cell_type": "code",
   "execution_count": 68,
   "id": "bb95e548",
   "metadata": {
    "scrolled": true
   },
   "outputs": [
    {
     "data": {
      "text/plain": [
       "{'Direction': ['Down', 'Up'], 'Down': [441, 544], 'Up': [441, 0]}"
      ]
     },
     "execution_count": 68,
     "metadata": {},
     "output_type": "execute_result"
    }
   ],
   "source": [
    "qda = QuadraticDiscriminantAnalysis()\n",
    "model2 = lda.fit(train[['Lag1', 'Lag2', 'Lag3', 'Lag4', 'Lag5', 'Volume']], train.Year)\n",
    "\n",
    "prod2 = lda.predict(train[['Lag1', 'Lag2', 'Lag3', 'Lag4', 'Lag5', 'Volume']])\n",
    "pred2 = np.tile([0], len(prod2))\n",
    "pred2[prod2>.5]=1\n",
    "\n",
    "diff2 = train.Direction - pred2\n",
    "cunf_mat = {\"Direction\":['Down', 'Up'], \"Down\":[len(np.where(diff2 == -1)[0]), len(np.where(diff2 == 0)[0])], \"Up\":[len(np.where(diff2 != 0)[0]), len(np.where(diff2 == 1)[0])]}\n",
    "cunf_mat"
   ]
  },
  {
   "cell_type": "markdown",
   "id": "aae8fc88",
   "metadata": {},
   "source": [
    "The percentage of correct prediction is (441+544)/985 = 69%"
   ]
  },
  {
   "cell_type": "markdown",
   "id": "c86324d0-7dad-4228-8ed9-2785cbd727a3",
   "metadata": {
    "tags": []
   },
   "source": [
    "#### PART G : \n",
    "Repeat (d) using KNN with K = 1."
   ]
  },
  {
   "cell_type": "markdown",
   "id": "fd6c27c4-6dda-4eab-b206-fd28267e95bd",
   "metadata": {},
   "source": [
    "#### PART H : \n",
    "Repeat (d) using naive Bayes."
   ]
  },
  {
   "cell_type": "markdown",
   "id": "abf94dcd-d297-4190-91c2-0a57b91483cd",
   "metadata": {},
   "source": [
    "#### PART I : \n",
    "Which of these methods appears to provide the best results on this data?"
   ]
  },
  {
   "cell_type": "markdown",
   "id": "f0f6d342-58de-4efa-b25a-1b773c1ddc15",
   "metadata": {},
   "source": [
    "#### PART J : \n",
    "Experiment with different combinations of predictors, including possible transformations and interactions, for each of the methods. Report the variables, method, and associated confusion matrix that appears to provide the best results on the held out data. Note that you should also experiment with values for K in the KNN classifier."
   ]
  },
  {
   "cell_type": "code",
   "execution_count": null,
   "id": "99e943ba-54cb-4708-8325-5c667c8d84bb",
   "metadata": {},
   "outputs": [],
   "source": []
  }
 ],
 "metadata": {
  "kernelspec": {
   "display_name": "Python 3 (ipykernel)",
   "language": "python",
   "name": "python3"
  },
  "language_info": {
   "codemirror_mode": {
    "name": "ipython",
    "version": 3
   },
   "file_extension": ".py",
   "mimetype": "text/x-python",
   "name": "python",
   "nbconvert_exporter": "python",
   "pygments_lexer": "ipython3",
   "version": "3.10.5"
  }
 },
 "nbformat": 4,
 "nbformat_minor": 5
}
