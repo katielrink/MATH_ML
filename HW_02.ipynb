{
 "cells": [
  {
   "cell_type": "markdown",
   "id": "3d99835d-05fc-46c3-89d6-9062dd8c59de",
   "metadata": {},
   "source": [
    "### Exercise 3.7, problem 10"
   ]
  },
  {
   "cell_type": "code",
   "execution_count": 1,
   "id": "9de38eef-5e81-4d2d-8d8f-65ab6d11da93",
   "metadata": {},
   "outputs": [
    {
     "data": {
      "text/html": [
       "<div>\n",
       "<style scoped>\n",
       "    .dataframe tbody tr th:only-of-type {\n",
       "        vertical-align: middle;\n",
       "    }\n",
       "\n",
       "    .dataframe tbody tr th {\n",
       "        vertical-align: top;\n",
       "    }\n",
       "\n",
       "    .dataframe thead th {\n",
       "        text-align: right;\n",
       "    }\n",
       "</style>\n",
       "<table border=\"1\" class=\"dataframe\">\n",
       "  <thead>\n",
       "    <tr style=\"text-align: right;\">\n",
       "      <th></th>\n",
       "      <th>Sales</th>\n",
       "      <th>CompPrice</th>\n",
       "      <th>Income</th>\n",
       "      <th>Advertising</th>\n",
       "      <th>Population</th>\n",
       "      <th>Price</th>\n",
       "      <th>ShelveLoc</th>\n",
       "      <th>Age</th>\n",
       "      <th>Education</th>\n",
       "      <th>Urban</th>\n",
       "      <th>US</th>\n",
       "    </tr>\n",
       "  </thead>\n",
       "  <tbody>\n",
       "    <tr>\n",
       "      <th>0</th>\n",
       "      <td>9.50</td>\n",
       "      <td>138</td>\n",
       "      <td>73</td>\n",
       "      <td>11</td>\n",
       "      <td>276</td>\n",
       "      <td>120</td>\n",
       "      <td>Bad</td>\n",
       "      <td>42</td>\n",
       "      <td>17</td>\n",
       "      <td>Yes</td>\n",
       "      <td>Yes</td>\n",
       "    </tr>\n",
       "    <tr>\n",
       "      <th>1</th>\n",
       "      <td>11.22</td>\n",
       "      <td>111</td>\n",
       "      <td>48</td>\n",
       "      <td>16</td>\n",
       "      <td>260</td>\n",
       "      <td>83</td>\n",
       "      <td>Good</td>\n",
       "      <td>65</td>\n",
       "      <td>10</td>\n",
       "      <td>Yes</td>\n",
       "      <td>Yes</td>\n",
       "    </tr>\n",
       "    <tr>\n",
       "      <th>2</th>\n",
       "      <td>10.06</td>\n",
       "      <td>113</td>\n",
       "      <td>35</td>\n",
       "      <td>10</td>\n",
       "      <td>269</td>\n",
       "      <td>80</td>\n",
       "      <td>Medium</td>\n",
       "      <td>59</td>\n",
       "      <td>12</td>\n",
       "      <td>Yes</td>\n",
       "      <td>Yes</td>\n",
       "    </tr>\n",
       "    <tr>\n",
       "      <th>3</th>\n",
       "      <td>7.40</td>\n",
       "      <td>117</td>\n",
       "      <td>100</td>\n",
       "      <td>4</td>\n",
       "      <td>466</td>\n",
       "      <td>97</td>\n",
       "      <td>Medium</td>\n",
       "      <td>55</td>\n",
       "      <td>14</td>\n",
       "      <td>Yes</td>\n",
       "      <td>Yes</td>\n",
       "    </tr>\n",
       "    <tr>\n",
       "      <th>4</th>\n",
       "      <td>4.15</td>\n",
       "      <td>141</td>\n",
       "      <td>64</td>\n",
       "      <td>3</td>\n",
       "      <td>340</td>\n",
       "      <td>128</td>\n",
       "      <td>Bad</td>\n",
       "      <td>38</td>\n",
       "      <td>13</td>\n",
       "      <td>Yes</td>\n",
       "      <td>No</td>\n",
       "    </tr>\n",
       "    <tr>\n",
       "      <th>...</th>\n",
       "      <td>...</td>\n",
       "      <td>...</td>\n",
       "      <td>...</td>\n",
       "      <td>...</td>\n",
       "      <td>...</td>\n",
       "      <td>...</td>\n",
       "      <td>...</td>\n",
       "      <td>...</td>\n",
       "      <td>...</td>\n",
       "      <td>...</td>\n",
       "      <td>...</td>\n",
       "    </tr>\n",
       "    <tr>\n",
       "      <th>395</th>\n",
       "      <td>12.57</td>\n",
       "      <td>138</td>\n",
       "      <td>108</td>\n",
       "      <td>17</td>\n",
       "      <td>203</td>\n",
       "      <td>128</td>\n",
       "      <td>Good</td>\n",
       "      <td>33</td>\n",
       "      <td>14</td>\n",
       "      <td>Yes</td>\n",
       "      <td>Yes</td>\n",
       "    </tr>\n",
       "    <tr>\n",
       "      <th>396</th>\n",
       "      <td>6.14</td>\n",
       "      <td>139</td>\n",
       "      <td>23</td>\n",
       "      <td>3</td>\n",
       "      <td>37</td>\n",
       "      <td>120</td>\n",
       "      <td>Medium</td>\n",
       "      <td>55</td>\n",
       "      <td>11</td>\n",
       "      <td>No</td>\n",
       "      <td>Yes</td>\n",
       "    </tr>\n",
       "    <tr>\n",
       "      <th>397</th>\n",
       "      <td>7.41</td>\n",
       "      <td>162</td>\n",
       "      <td>26</td>\n",
       "      <td>12</td>\n",
       "      <td>368</td>\n",
       "      <td>159</td>\n",
       "      <td>Medium</td>\n",
       "      <td>40</td>\n",
       "      <td>18</td>\n",
       "      <td>Yes</td>\n",
       "      <td>Yes</td>\n",
       "    </tr>\n",
       "    <tr>\n",
       "      <th>398</th>\n",
       "      <td>5.94</td>\n",
       "      <td>100</td>\n",
       "      <td>79</td>\n",
       "      <td>7</td>\n",
       "      <td>284</td>\n",
       "      <td>95</td>\n",
       "      <td>Bad</td>\n",
       "      <td>50</td>\n",
       "      <td>12</td>\n",
       "      <td>Yes</td>\n",
       "      <td>Yes</td>\n",
       "    </tr>\n",
       "    <tr>\n",
       "      <th>399</th>\n",
       "      <td>9.71</td>\n",
       "      <td>134</td>\n",
       "      <td>37</td>\n",
       "      <td>0</td>\n",
       "      <td>27</td>\n",
       "      <td>120</td>\n",
       "      <td>Good</td>\n",
       "      <td>49</td>\n",
       "      <td>16</td>\n",
       "      <td>Yes</td>\n",
       "      <td>Yes</td>\n",
       "    </tr>\n",
       "  </tbody>\n",
       "</table>\n",
       "<p>400 rows × 11 columns</p>\n",
       "</div>"
      ],
      "text/plain": [
       "     Sales  CompPrice  Income  Advertising  Population  Price ShelveLoc  Age  \\\n",
       "0     9.50        138      73           11         276    120       Bad   42   \n",
       "1    11.22        111      48           16         260     83      Good   65   \n",
       "2    10.06        113      35           10         269     80    Medium   59   \n",
       "3     7.40        117     100            4         466     97    Medium   55   \n",
       "4     4.15        141      64            3         340    128       Bad   38   \n",
       "..     ...        ...     ...          ...         ...    ...       ...  ...   \n",
       "395  12.57        138     108           17         203    128      Good   33   \n",
       "396   6.14        139      23            3          37    120    Medium   55   \n",
       "397   7.41        162      26           12         368    159    Medium   40   \n",
       "398   5.94        100      79            7         284     95       Bad   50   \n",
       "399   9.71        134      37            0          27    120      Good   49   \n",
       "\n",
       "     Education Urban   US  \n",
       "0           17   Yes  Yes  \n",
       "1           10   Yes  Yes  \n",
       "2           12   Yes  Yes  \n",
       "3           14   Yes  Yes  \n",
       "4           13   Yes   No  \n",
       "..         ...   ...  ...  \n",
       "395         14   Yes  Yes  \n",
       "396         11    No  Yes  \n",
       "397         18   Yes  Yes  \n",
       "398         12   Yes  Yes  \n",
       "399         16   Yes  Yes  \n",
       "\n",
       "[400 rows x 11 columns]"
      ]
     },
     "execution_count": 1,
     "metadata": {},
     "output_type": "execute_result"
    }
   ],
   "source": [
    "import pandas as pd\n",
    "import numpy as np\n",
    "import matplotlib.pyplot as plt\n",
    "from sklearn import linear_model\n",
    "\n",
    "# Load StatsModels API\n",
    "import statsmodels.api as sm\n",
    "import statsmodels.formula.api as smf\n",
    "\n",
    "df = pd.read_csv('Data/Carseats.csv');\n",
    "df"
   ]
  },
  {
   "cell_type": "markdown",
   "id": "f96080bd-40ce-4104-98de-f67c01070bf6",
   "metadata": {
    "tags": []
   },
   "source": [
    "#### PART A : \n",
    "Fit a multiple regression model to predict Sales using Price, Urban, and US."
   ]
  },
  {
   "cell_type": "code",
   "execution_count": 2,
   "id": "81ab14ba-c4df-40d3-9d29-4e1350bb59f2",
   "metadata": {},
   "outputs": [
    {
     "name": "stdout",
     "output_type": "stream",
     "text": [
      "                            OLS Regression Results                            \n",
      "==============================================================================\n",
      "Dep. Variable:                  Sales   R-squared:                       0.239\n",
      "Model:                            OLS   Adj. R-squared:                  0.234\n",
      "Method:                 Least Squares   F-statistic:                     41.52\n",
      "Date:                Mon, 19 Sep 2022   Prob (F-statistic):           2.39e-23\n",
      "Time:                        18:10:59   Log-Likelihood:                -927.66\n",
      "No. Observations:                 400   AIC:                             1863.\n",
      "Df Residuals:                     396   BIC:                             1879.\n",
      "Df Model:                           3                                         \n",
      "Covariance Type:            nonrobust                                         \n",
      "================================================================================\n",
      "                   coef    std err          t      P>|t|      [0.025      0.975]\n",
      "--------------------------------------------------------------------------------\n",
      "Intercept       13.0435      0.651     20.036      0.000      11.764      14.323\n",
      "Urban[T.Yes]    -0.0219      0.272     -0.081      0.936      -0.556       0.512\n",
      "US[T.Yes]        1.2006      0.259      4.635      0.000       0.691       1.710\n",
      "Price           -0.0545      0.005    -10.389      0.000      -0.065      -0.044\n",
      "==============================================================================\n",
      "Omnibus:                        0.676   Durbin-Watson:                   1.912\n",
      "Prob(Omnibus):                  0.713   Jarque-Bera (JB):                0.758\n",
      "Skew:                           0.093   Prob(JB):                        0.684\n",
      "Kurtosis:                       2.897   Cond. No.                         628.\n",
      "==============================================================================\n",
      "\n",
      "Notes:\n",
      "[1] Standard Errors assume that the covariance matrix of the errors is correctly specified.\n"
     ]
    }
   ],
   "source": [
    "#Load data and convert string to integers for analysis\n",
    "#df.Urban = df.Urban.map(dict(Yes=1, No=0))\n",
    "#df.US = df.US.map(dict(Yes=1, No=0))\n",
    "\n",
    "#Create multiple regression model to predict values of sales utilizing R Style Functions\n",
    "#Method learned from https://datatofish.com/statsmodels-linear-regression/ \n",
    "mod_1 = smf.ols(formula = \"Sales ~ Price + Urban + US\", data = df)\n",
    "res_1 = mod_1.fit()\n",
    "print(res_1.summary())"
   ]
  },
  {
   "cell_type": "markdown",
   "id": "de140dba-2f93-458a-a2ae-9e86e14b0f2b",
   "metadata": {
    "tags": []
   },
   "source": [
    "#### PART B : \n",
    "Provide an interpretation of each coefficient in the model. Be careful—some of the variables in the model are qualitative."
   ]
  },
  {
   "cell_type": "markdown",
   "id": "b45b0b19-96a7-4d0a-a7e3-8d0d5b1434a8",
   "metadata": {},
   "source": [
    "The coefficient for Price is *-0.0545*, which represents that at a certain fixed value for Urban and US, thus a specific location, increasing the price of a carset by 1 would result in a decrease in sales of 54.45 on average. </br></br>\n",
    "The coefficient for Urban - Yes is *-0.0219*, which represents the at a given constant price and US, the urban areas will have approximately 22 less sales than non-urban areas. </br> </br>\n",
    "The coefficient for US - Yes is 1.200537, which means at a constant price and value for Urban, there are 1201 more units on average inside the US over outside"
   ]
  },
  {
   "cell_type": "markdown",
   "id": "867f9cba-ae43-4f1c-bff7-e3811ca259ac",
   "metadata": {},
   "source": [
    "#### PART C : \n",
    "Write out the model in equation form, being careful to handle\n",
    "the qualitative variables properly.!"
   ]
  },
  {
   "cell_type": "markdown",
   "id": "1341b5ef-a866-4bab-ac45-0fc37dd89670",
   "metadata": {},
   "source": [
    "The model would be </br>\n",
    "*Ŷ = Intercept + (Price coeff)X<sub>1</sub> + (Urban Coeff)X<sub>2</sub> + (US Coeff)X<sub>3</sub>* </br>\n",
    "Where Ŷ is the estimate of carseat sales (in thousands), X1 is the price of a carseat in a store, X2 is a whether a carseat is in an urban area, and X2 is whether a carseat is inside the US. The last two values are produced by returning 0 if they are not located in above specified area, and 1 if they are. </br>\n",
    "Therefore our estimated model would be : </br>\n",
    "*Ŷ = 13.0435 - 0.0545X<sub>1</sub> - 0.0219X<sub>2</sub> + 1.200537X<sub>3</sub>*"
   ]
  },
  {
   "cell_type": "markdown",
   "id": "e8ff3e74-5fb2-49cc-9a8e-c375bb9c9c7c",
   "metadata": {},
   "source": [
    "#### PART D : \n",
    "For which of the predictors can you reject the null hypothesis H0 : βj = 0?"
   ]
  },
  {
   "cell_type": "markdown",
   "id": "85befae0-0dba-439c-a94c-8ebb9f12fadb",
   "metadata": {},
   "source": [
    "In order to reject the null hypothesis, we need to have low p-values for all coefficients. The p-values we found were : </br>\n",
    "**Intercept :** 0.000</br>\n",
    "**Urban - Yes :** 0.936</br>\n",
    "**US - Yes :** 0.000</br>\n",
    "**Price :** 0.000</br>\n",
    "Because Intercept, US, and Price P-values are all zero or essentially zero, we have a strong case to reject the null hypothesis. However, the p-value for Urban is high, so we cannot reject the null hypothesis."
   ]
  },
  {
   "cell_type": "markdown",
   "id": "ffb765e5-afd1-4256-9799-2d523c0723c8",
   "metadata": {
    "tags": []
   },
   "source": [
    "#### PART E : \n",
    "On the basis of your response to the previous question, fit a smaller model that only uses the predictors for which there is evidence of association with the outcome."
   ]
  },
  {
   "cell_type": "code",
   "execution_count": 3,
   "id": "ba4831bc-3ff0-45ac-b8d3-d77d3da5f777",
   "metadata": {},
   "outputs": [
    {
     "name": "stdout",
     "output_type": "stream",
     "text": [
      "                            OLS Regression Results                            \n",
      "==============================================================================\n",
      "Dep. Variable:                  Sales   R-squared:                       0.239\n",
      "Model:                            OLS   Adj. R-squared:                  0.235\n",
      "Method:                 Least Squares   F-statistic:                     62.43\n",
      "Date:                Mon, 19 Sep 2022   Prob (F-statistic):           2.66e-24\n",
      "Time:                        18:10:59   Log-Likelihood:                -927.66\n",
      "No. Observations:                 400   AIC:                             1861.\n",
      "Df Residuals:                     397   BIC:                             1873.\n",
      "Df Model:                           2                                         \n",
      "Covariance Type:            nonrobust                                         \n",
      "==============================================================================\n",
      "                 coef    std err          t      P>|t|      [0.025      0.975]\n",
      "------------------------------------------------------------------------------\n",
      "Intercept     13.0308      0.631     20.652      0.000      11.790      14.271\n",
      "US[T.Yes]      1.1996      0.258      4.641      0.000       0.692       1.708\n",
      "Price         -0.0545      0.005    -10.416      0.000      -0.065      -0.044\n",
      "==============================================================================\n",
      "Omnibus:                        0.666   Durbin-Watson:                   1.912\n",
      "Prob(Omnibus):                  0.717   Jarque-Bera (JB):                0.749\n",
      "Skew:                           0.092   Prob(JB):                        0.688\n",
      "Kurtosis:                       2.895   Cond. No.                         607.\n",
      "==============================================================================\n",
      "\n",
      "Notes:\n",
      "[1] Standard Errors assume that the covariance matrix of the errors is correctly specified.\n"
     ]
    }
   ],
   "source": [
    "# Using R-style formulas to create another regression model without Urban\n",
    "mod_2 = smf.ols(formula = \"Sales ~ Price + US\", data = df)\n",
    "res_2 = mod_2.fit()\n",
    "print(res_2.summary())"
   ]
  },
  {
   "cell_type": "markdown",
   "id": "702e5b0f-9794-4054-bc12-8a6f732d842a",
   "metadata": {},
   "source": [
    "#### PART F : \n",
    "How well do the models in (a) and (e) fit the data?"
   ]
  },
  {
   "cell_type": "markdown",
   "id": "45bbe48b-8624-4bb9-8141-1ee020177d7f",
   "metadata": {},
   "source": [
    "If we look at the R-Squared values provided for each model, which represents the variation in the dependent variable that is predictable from the independent variable, we can see that both are around .24. That is a pretty low value, so both models would be considered average if not less than average."
   ]
  },
  {
   "cell_type": "markdown",
   "id": "feaa3f5a-85d8-4e69-b43a-8930ce2a10ee",
   "metadata": {},
   "source": [
    "#### PART G : \n",
    "Using the model from (e), obtain 95 % confidence intervals for the coefficient(s)."
   ]
  },
  {
   "cell_type": "code",
   "execution_count": 4,
   "id": "4bab484a-389e-4add-bc57-89888fab563a",
   "metadata": {},
   "outputs": [
    {
     "data": {
      "text/html": [
       "<div>\n",
       "<style scoped>\n",
       "    .dataframe tbody tr th:only-of-type {\n",
       "        vertical-align: middle;\n",
       "    }\n",
       "\n",
       "    .dataframe tbody tr th {\n",
       "        vertical-align: top;\n",
       "    }\n",
       "\n",
       "    .dataframe thead th {\n",
       "        text-align: right;\n",
       "    }\n",
       "</style>\n",
       "<table border=\"1\" class=\"dataframe\">\n",
       "  <thead>\n",
       "    <tr style=\"text-align: right;\">\n",
       "      <th></th>\n",
       "      <th>0</th>\n",
       "      <th>1</th>\n",
       "    </tr>\n",
       "  </thead>\n",
       "  <tbody>\n",
       "    <tr>\n",
       "      <th>Intercept</th>\n",
       "      <td>11.79032</td>\n",
       "      <td>14.271265</td>\n",
       "    </tr>\n",
       "    <tr>\n",
       "      <th>US[T.Yes]</th>\n",
       "      <td>0.69152</td>\n",
       "      <td>1.707766</td>\n",
       "    </tr>\n",
       "    <tr>\n",
       "      <th>Price</th>\n",
       "      <td>-0.06476</td>\n",
       "      <td>-0.044195</td>\n",
       "    </tr>\n",
       "  </tbody>\n",
       "</table>\n",
       "</div>"
      ],
      "text/plain": [
       "                  0          1\n",
       "Intercept  11.79032  14.271265\n",
       "US[T.Yes]   0.69152   1.707766\n",
       "Price      -0.06476  -0.044195"
      ]
     },
     "execution_count": 4,
     "metadata": {},
     "output_type": "execute_result"
    }
   ],
   "source": [
    "res_2.conf_int(alpha=0.05, cols=None)"
   ]
  },
  {
   "cell_type": "markdown",
   "id": "bebb6534-c5be-42a4-90b9-ae41a4e9cb28",
   "metadata": {},
   "source": [
    "#### PART H : \n",
    "Design a model involving at least one interaction feature (e.g. X1*X2) and one transformed feature (e.g. X1^2.) Write your model mathematically and use simulation data to comment your findings on the interaction feature and transformed feature used in the model.  "
   ]
  },
  {
   "cell_type": "markdown",
   "id": "2ebd671f",
   "metadata": {},
   "source": [
    "*Ŷ = Intercept + ((CompPrice)X1 * (Price)X2) + (Income)X3^2*"
   ]
  },
  {
   "cell_type": "code",
   "execution_count": 5,
   "id": "74d8ff6b-0401-4779-8b2b-5d270d6c09be",
   "metadata": {},
   "outputs": [
    {
     "name": "stdout",
     "output_type": "stream",
     "text": [
      "                            OLS Regression Results                            \n",
      "==============================================================================\n",
      "Dep. Variable:                  Sales   R-squared:                       0.381\n",
      "Model:                            OLS   Adj. R-squared:                  0.374\n",
      "Method:                 Least Squares   F-statistic:                     60.66\n",
      "Date:                Mon, 19 Sep 2022   Prob (F-statistic):           6.41e-40\n",
      "Time:                        18:10:59   Log-Likelihood:                -886.58\n",
      "No. Observations:                 400   AIC:                             1783.\n",
      "Df Residuals:                     395   BIC:                             1803.\n",
      "Df Model:                           4                                         \n",
      "Covariance Type:            nonrobust                                         \n",
      "===================================================================================\n",
      "                      coef    std err          t      P>|t|      [0.025      0.975]\n",
      "-----------------------------------------------------------------------------------\n",
      "Intercept           4.9309      3.508      1.406      0.161      -1.966      11.828\n",
      "CompPrice           0.0929      0.029      3.199      0.001       0.036       0.150\n",
      "Price              -0.0870      0.030     -2.874      0.004      -0.147      -0.027\n",
      "CompPrice:Price -1.382e-06      0.000     -0.006      0.995      -0.000       0.000\n",
      "Income              0.0153      0.004      3.803      0.000       0.007       0.023\n",
      "==============================================================================\n",
      "Omnibus:                        7.329   Durbin-Watson:                   1.884\n",
      "Prob(Omnibus):                  0.026   Jarque-Bera (JB):                7.074\n",
      "Skew:                           0.284   Prob(JB):                       0.0291\n",
      "Kurtosis:                       2.682   Cond. No.                     4.80e+05\n",
      "==============================================================================\n",
      "\n",
      "Notes:\n",
      "[1] Standard Errors assume that the covariance matrix of the errors is correctly specified.\n",
      "[2] The condition number is large, 4.8e+05. This might indicate that there are\n",
      "strong multicollinearity or other numerical problems.\n"
     ]
    }
   ],
   "source": [
    "# Using R-style formulas to create another regression model without Urban\n",
    "mod_2 = smf.ols(formula = \"Sales ~ CompPrice * Price + Income**2\", data = df)\n",
    "res_2 = mod_2.fit()\n",
    "print(res_2.summary())"
   ]
  },
  {
   "cell_type": "markdown",
   "id": "afeb3957",
   "metadata": {},
   "source": [
    "In the above finding, we can see the interactive feature, which are the price and the competition price, the coefficient -1.382^-6, therefore there is very little change in price and comprice based around change in units. The p-value is .995, which makes the variables of price and competition price highly correlated. </br>\n",
    "Alternative, we can see the transformative feature, which is income squared, the coefficient is .0153, therefore there is still very little change in income ased around change in units. The p-value is close to zero, therefore there is no correlation between income and units."
   ]
  }
 ],
 "metadata": {
  "kernelspec": {
   "display_name": "Python 3 (ipykernel)",
   "language": "python",
   "name": "python3"
  },
  "language_info": {
   "codemirror_mode": {
    "name": "ipython",
    "version": 3
   },
   "file_extension": ".py",
   "mimetype": "text/x-python",
   "name": "python",
   "nbconvert_exporter": "python",
   "pygments_lexer": "ipython3",
   "version": "3.10.5"
  }
 },
 "nbformat": 4,
 "nbformat_minor": 5
}
