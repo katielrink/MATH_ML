{
 "cells": [
  {
   "cell_type": "code",
   "execution_count": 4,
   "id": "ad43585c",
   "metadata": {
    "scrolled": true
   },
   "outputs": [
    {
     "data": {
      "text/plain": [
       "      Year           Lag1               Lag2               Lag3         \n",
       " Min.   :1990   Min.   :-18.1950   Min.   :-18.1950   Min.   :-18.1950  \n",
       " 1st Qu.:1995   1st Qu.: -1.1540   1st Qu.: -1.1540   1st Qu.: -1.1580  \n",
       " Median :2000   Median :  0.2410   Median :  0.2410   Median :  0.2410  \n",
       " Mean   :2000   Mean   :  0.1506   Mean   :  0.1511   Mean   :  0.1472  \n",
       " 3rd Qu.:2005   3rd Qu.:  1.4050   3rd Qu.:  1.4090   3rd Qu.:  1.4090  \n",
       " Max.   :2010   Max.   : 12.0260   Max.   : 12.0260   Max.   : 12.0260  \n",
       "      Lag4               Lag5              Volume            Today         \n",
       " Min.   :-18.1950   Min.   :-18.1950   Min.   :0.08747   Min.   :-18.1950  \n",
       " 1st Qu.: -1.1580   1st Qu.: -1.1660   1st Qu.:0.33202   1st Qu.: -1.1540  \n",
       " Median :  0.2380   Median :  0.2340   Median :1.00268   Median :  0.2410  \n",
       " Mean   :  0.1458   Mean   :  0.1399   Mean   :1.57462   Mean   :  0.1499  \n",
       " 3rd Qu.:  1.4090   3rd Qu.:  1.4050   3rd Qu.:2.05373   3rd Qu.:  1.4050  \n",
       " Max.   : 12.0260   Max.   : 12.0260   Max.   :9.32821   Max.   : 12.0260  \n",
       " Direction \n",
       " Down:484  \n",
       " Up  :605  \n",
       "           \n",
       "           \n",
       "           \n",
       "           "
      ]
     },
     "metadata": {},
     "output_type": "display_data"
    }
   ],
   "source": [
    "library('ISLR')\n",
    "summary(Weekly)"
   ]
  },
  {
   "cell_type": "code",
   "execution_count": 6,
   "id": "ec40744b",
   "metadata": {},
   "outputs": [
    {
     "data": {
      "text/plain": [
       "\n",
       "Call:\n",
       "glm(formula = Direction ~ Lag1 + Lag2 + Lag3 + Lag4 + Lag5 + \n",
       "    Volume, family = binomial, data = Weekly)\n",
       "\n",
       "Deviance Residuals: \n",
       "    Min       1Q   Median       3Q      Max  \n",
       "-1.6949  -1.2565   0.9913   1.0849   1.4579  \n",
       "\n",
       "Coefficients:\n",
       "            Estimate Std. Error z value Pr(>|z|)   \n",
       "(Intercept)  0.26686    0.08593   3.106   0.0019 **\n",
       "Lag1        -0.04127    0.02641  -1.563   0.1181   \n",
       "Lag2         0.05844    0.02686   2.175   0.0296 * \n",
       "Lag3        -0.01606    0.02666  -0.602   0.5469   \n",
       "Lag4        -0.02779    0.02646  -1.050   0.2937   \n",
       "Lag5        -0.01447    0.02638  -0.549   0.5833   \n",
       "Volume      -0.02274    0.03690  -0.616   0.5377   \n",
       "---\n",
       "Signif. codes:  0 '***' 0.001 '**' 0.01 '*' 0.05 '.' 0.1 ' ' 1\n",
       "\n",
       "(Dispersion parameter for binomial family taken to be 1)\n",
       "\n",
       "    Null deviance: 1496.2  on 1088  degrees of freedom\n",
       "Residual deviance: 1486.4  on 1082  degrees of freedom\n",
       "AIC: 1500.4\n",
       "\n",
       "Number of Fisher Scoring iterations: 4\n"
      ]
     },
     "metadata": {},
     "output_type": "display_data"
    }
   ],
   "source": [
    "fit.glm = glm(Direction ~ Lag1 + Lag2 + Lag3 + Lag4 + Lag5 + Volume, data=Weekly, family=binomial)\n",
    "summary(fit.glm)"
   ]
  },
  {
   "cell_type": "code",
   "execution_count": 11,
   "id": "1a28465a",
   "metadata": {},
   "outputs": [
    {
     "ename": "ERROR",
     "evalue": "Error in table(pred.glm, Direction): object 'Direction' not found\n",
     "output_type": "error",
     "traceback": [
      "Error in table(pred.glm, Direction): object 'Direction' not found\nTraceback:\n",
      "1. table(pred.glm, Direction)"
     ]
    }
   ],
   "source": [
    "probs = predict(fit.glm, type=\"response\")\n",
    "pred.glm = rep(\"Down\", length(probs))\n",
    "table(pred.glm, Direction)"
   ]
  },
  {
   "cell_type": "code",
   "execution_count": null,
   "id": "5f5d0c99",
   "metadata": {},
   "outputs": [],
   "source": []
  }
 ],
 "metadata": {
  "kernelspec": {
   "display_name": "R",
   "language": "R",
   "name": "ir"
  },
  "language_info": {
   "codemirror_mode": "r",
   "file_extension": ".r",
   "mimetype": "text/x-r-source",
   "name": "R",
   "pygments_lexer": "r",
   "version": "4.2.1"
  }
 },
 "nbformat": 4,
 "nbformat_minor": 5
}
