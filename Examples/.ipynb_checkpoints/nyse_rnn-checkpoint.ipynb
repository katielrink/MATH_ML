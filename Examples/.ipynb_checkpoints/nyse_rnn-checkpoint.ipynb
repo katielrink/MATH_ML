{
 "cells": [
  {
   "cell_type": "markdown",
   "metadata": {},
   "source": [
    "# RNN on NYSE stock indeces"
   ]
  },
  {
   "cell_type": "code",
   "execution_count": 25,
   "metadata": {},
   "outputs": [],
   "source": [
    "import pandas as pd    # to load dataset\n",
    "import numpy as np     # for mathematic equation\n",
    "from sklearn.model_selection import train_test_split       # for splitting dataset\n",
    "from tensorflow.keras.preprocessing.text import Tokenizer  # to encode text to int\n",
    "from tensorflow.keras.preprocessing.sequence import pad_sequences   # to do padding or truncating\n",
    "from tensorflow.keras.models import Sequential     # the model\n",
    "from tensorflow.keras.layers import Embedding, LSTM, Dense # layers of the architecture\n",
    "from tensorflow.keras.callbacks import ModelCheckpoint   # save model\n",
    "from tensorflow.keras.models import load_model   # load saved model\n",
    "import re"
   ]
  },
  {
   "cell_type": "code",
   "execution_count": 26,
   "metadata": {
    "scrolled": true
   },
   "outputs": [
    {
     "name": "stdout",
     "output_type": "stream",
     "text": [
      "(4276, 5, 3)\n"
     ]
    }
   ],
   "source": [
    "# Load the dataset\n",
    "my_df = pd.read_csv('NYSE.csv')\n",
    "\n",
    "# Load all needed information\n",
    "L = my_df.loc[:,['DJ_return','log_volume','log_volatility','train']]\n",
    "\n",
    "# Create lagged sequences \n",
    "L['v1']=L.loc[:,'log_volume'].shift(1)\n",
    "L['v2']=L.loc[:,'log_volume'].shift(2)\n",
    "L['v3']=L.loc[:,'log_volume'].shift(3)\n",
    "L['v4']=L.loc[:,'log_volume'].shift(4)\n",
    "L['v5']=L.loc[:,'log_volume'].shift(5)\n",
    "L['r1']=L.loc[:,'DJ_return'].shift(1)\n",
    "L['r2']=L.loc[:,'DJ_return'].shift(2)\n",
    "L['r3']=L.loc[:,'DJ_return'].shift(3)\n",
    "L['r4']=L.loc[:,'DJ_return'].shift(4)\n",
    "L['r5']=L.loc[:,'DJ_return'].shift(5)\n",
    "L['z1']=L.loc[:,'log_volatility'].shift(1)\n",
    "L['z2']=L.loc[:,'log_volatility'].shift(2)\n",
    "L['z3']=L.loc[:,'log_volatility'].shift(3)\n",
    "L['z4']=L.loc[:,'log_volatility'].shift(4)\n",
    "L['z5']=L.loc[:,'log_volatility'].shift(5)\n",
    "L=L.dropna()\n",
    "\n",
    "train_X = L[L['train']==True]\n",
    "test_X = L[L['train']==False]\n",
    "train_y = train_X.loc[:,['log_volume']]\n",
    "test_y = test_X.loc[:,['log_volume']]\n",
    "\n",
    "train_X=train_X.drop(columns=['train','log_volume','DJ_return','log_volatility'])\n",
    "test_X=test_X.drop(columns=['train','log_volume','DJ_return','log_volatility'])\n",
    "\n",
    "\n",
    "# convert dataframe to ndarray thus reshape() is possible\n",
    "train_X=train_X.values\n",
    "test_X=test_X.values\n",
    "\n",
    "\n",
    "train_X = train_X.reshape((train_X.shape[0], 5, 3))\n",
    "test_X = test_X.reshape((test_X.shape[0], 5, 3))\n",
    "print(train_X.shape)\n",
    "\n",
    "\n",
    "\n"
   ]
  },
  {
   "cell_type": "code",
   "execution_count": 24,
   "metadata": {},
   "outputs": [
    {
     "name": "stdout",
     "output_type": "stream",
     "text": [
      "Epoch 1/50\n",
      "60/60 - 2s - loss: 0.2442 - val_loss: 0.1690 - 2s/epoch - 28ms/step\n",
      "Epoch 2/50\n",
      "60/60 - 0s - loss: 0.1489 - val_loss: 0.1487 - 387ms/epoch - 6ms/step\n",
      "Epoch 3/50\n",
      "60/60 - 0s - loss: 0.1304 - val_loss: 0.1456 - 355ms/epoch - 6ms/step\n",
      "Epoch 4/50\n",
      "60/60 - 0s - loss: 0.1288 - val_loss: 0.1449 - 440ms/epoch - 7ms/step\n",
      "Epoch 5/50\n",
      "60/60 - 0s - loss: 0.1261 - val_loss: 0.1446 - 372ms/epoch - 6ms/step\n",
      "Epoch 6/50\n",
      "60/60 - 0s - loss: 0.1251 - val_loss: 0.1443 - 383ms/epoch - 6ms/step\n",
      "Epoch 7/50\n",
      "60/60 - 0s - loss: 0.1238 - val_loss: 0.1438 - 370ms/epoch - 6ms/step\n",
      "Epoch 8/50\n",
      "60/60 - 0s - loss: 0.1234 - val_loss: 0.1442 - 390ms/epoch - 6ms/step\n",
      "Epoch 9/50\n",
      "60/60 - 0s - loss: 0.1232 - val_loss: 0.1446 - 371ms/epoch - 6ms/step\n",
      "Epoch 10/50\n",
      "60/60 - 0s - loss: 0.1232 - val_loss: 0.1444 - 374ms/epoch - 6ms/step\n",
      "Epoch 11/50\n",
      "60/60 - 0s - loss: 0.1232 - val_loss: 0.1444 - 337ms/epoch - 6ms/step\n",
      "Epoch 12/50\n",
      "60/60 - 0s - loss: 0.1233 - val_loss: 0.1442 - 409ms/epoch - 7ms/step\n",
      "Epoch 13/50\n",
      "60/60 - 0s - loss: 0.1228 - val_loss: 0.1444 - 439ms/epoch - 7ms/step\n",
      "Epoch 14/50\n",
      "60/60 - 0s - loss: 0.1232 - val_loss: 0.1438 - 343ms/epoch - 6ms/step\n",
      "Epoch 15/50\n",
      "60/60 - 0s - loss: 0.1228 - val_loss: 0.1437 - 461ms/epoch - 8ms/step\n",
      "Epoch 16/50\n",
      "60/60 - 0s - loss: 0.1228 - val_loss: 0.1436 - 396ms/epoch - 7ms/step\n",
      "Epoch 17/50\n",
      "60/60 - 0s - loss: 0.1229 - val_loss: 0.1428 - 428ms/epoch - 7ms/step\n",
      "Epoch 18/50\n",
      "60/60 - 0s - loss: 0.1226 - val_loss: 0.1427 - 327ms/epoch - 5ms/step\n",
      "Epoch 19/50\n",
      "60/60 - 0s - loss: 0.1226 - val_loss: 0.1426 - 382ms/epoch - 6ms/step\n",
      "Epoch 20/50\n",
      "60/60 - 1s - loss: 0.1225 - val_loss: 0.1426 - 503ms/epoch - 8ms/step\n",
      "Epoch 21/50\n",
      "60/60 - 0s - loss: 0.1224 - val_loss: 0.1426 - 355ms/epoch - 6ms/step\n",
      "Epoch 22/50\n",
      "60/60 - 0s - loss: 0.1220 - val_loss: 0.1425 - 383ms/epoch - 6ms/step\n",
      "Epoch 23/50\n",
      "60/60 - 0s - loss: 0.1219 - val_loss: 0.1423 - 330ms/epoch - 5ms/step\n",
      "Epoch 24/50\n",
      "60/60 - 0s - loss: 0.1215 - val_loss: 0.1421 - 487ms/epoch - 8ms/step\n",
      "Epoch 25/50\n",
      "60/60 - 0s - loss: 0.1212 - val_loss: 0.1420 - 339ms/epoch - 6ms/step\n",
      "Epoch 26/50\n",
      "60/60 - 0s - loss: 0.1211 - val_loss: 0.1421 - 318ms/epoch - 5ms/step\n",
      "Epoch 27/50\n",
      "60/60 - 0s - loss: 0.1212 - val_loss: 0.1420 - 404ms/epoch - 7ms/step\n",
      "Epoch 28/50\n",
      "60/60 - 0s - loss: 0.1210 - val_loss: 0.1419 - 392ms/epoch - 7ms/step\n",
      "Epoch 29/50\n",
      "60/60 - 0s - loss: 0.1210 - val_loss: 0.1419 - 396ms/epoch - 7ms/step\n",
      "Epoch 30/50\n",
      "60/60 - 0s - loss: 0.1211 - val_loss: 0.1419 - 347ms/epoch - 6ms/step\n",
      "Epoch 31/50\n",
      "60/60 - 0s - loss: 0.1207 - val_loss: 0.1418 - 324ms/epoch - 5ms/step\n",
      "Epoch 32/50\n",
      "60/60 - 0s - loss: 0.1208 - val_loss: 0.1417 - 383ms/epoch - 6ms/step\n",
      "Epoch 33/50\n",
      "60/60 - 0s - loss: 0.1207 - val_loss: 0.1416 - 383ms/epoch - 6ms/step\n",
      "Epoch 34/50\n",
      "60/60 - 0s - loss: 0.1207 - val_loss: 0.1416 - 407ms/epoch - 7ms/step\n",
      "Epoch 35/50\n",
      "60/60 - 0s - loss: 0.1205 - val_loss: 0.1414 - 355ms/epoch - 6ms/step\n",
      "Epoch 36/50\n",
      "60/60 - 0s - loss: 0.1203 - val_loss: 0.1413 - 389ms/epoch - 6ms/step\n",
      "Epoch 37/50\n",
      "60/60 - 0s - loss: 0.1201 - val_loss: 0.1414 - 349ms/epoch - 6ms/step\n",
      "Epoch 38/50\n",
      "60/60 - 1s - loss: 0.1200 - val_loss: 0.1413 - 519ms/epoch - 9ms/step\n",
      "Epoch 39/50\n",
      "60/60 - 0s - loss: 0.1200 - val_loss: 0.1412 - 328ms/epoch - 5ms/step\n",
      "Epoch 40/50\n",
      "60/60 - 1s - loss: 0.1199 - val_loss: 0.1412 - 515ms/epoch - 9ms/step\n",
      "Epoch 41/50\n",
      "60/60 - 0s - loss: 0.1200 - val_loss: 0.1414 - 247ms/epoch - 4ms/step\n",
      "Epoch 42/50\n",
      "60/60 - 0s - loss: 0.1200 - val_loss: 0.1411 - 404ms/epoch - 7ms/step\n",
      "Epoch 43/50\n",
      "60/60 - 0s - loss: 0.1199 - val_loss: 0.1410 - 434ms/epoch - 7ms/step\n",
      "Epoch 44/50\n",
      "60/60 - 0s - loss: 0.1199 - val_loss: 0.1408 - 463ms/epoch - 8ms/step\n",
      "Epoch 45/50\n",
      "60/60 - 0s - loss: 0.1198 - val_loss: 0.1408 - 391ms/epoch - 7ms/step\n",
      "Epoch 46/50\n",
      "60/60 - 0s - loss: 0.1198 - val_loss: 0.1408 - 452ms/epoch - 8ms/step\n",
      "Epoch 47/50\n",
      "60/60 - 0s - loss: 0.1195 - val_loss: 0.1406 - 300ms/epoch - 5ms/step\n",
      "Epoch 48/50\n",
      "60/60 - 0s - loss: 0.1193 - val_loss: 0.1405 - 399ms/epoch - 7ms/step\n",
      "Epoch 49/50\n",
      "60/60 - 0s - loss: 0.1192 - val_loss: 0.1404 - 285ms/epoch - 5ms/step\n",
      "Epoch 50/50\n",
      "60/60 - 0s - loss: 0.1190 - val_loss: 0.1406 - 352ms/epoch - 6ms/step\n"
     ]
    },
    {
     "data": {
      "image/png": "[encoded data removed]",
      "text/plain": [
       "<Figure size 640x480 with 1 Axes>"
      ]
     },
     "metadata": {},
     "output_type": "display_data"
    },
    {
     "name": "stdout",
     "output_type": "stream",
     "text": [
      "56/56 [==============================] - 1s 1ms/step\n",
      "Test RMSE: 0.190\n"
     ]
    }
   ],
   "source": [
    "# design network\n",
    "model = Sequential()\n",
    "model.add(LSTM(50, input_shape=(train_X.shape[1], train_X.shape[2])))\n",
    "model.add(Dense(1))\n",
    "model.compile(loss='mae', optimizer='adam')\n",
    "\n",
    "# fit network\n",
    "history = model.fit(train_X, train_y, epochs=50, batch_size=72, validation_data=(test_X, test_y), verbose=2, shuffle=False)\n",
    "\n",
    "# plot history\n",
    "pyplot.plot(history.history['loss'], label='train')\n",
    "pyplot.plot(history.history['val_loss'], label='test')\n",
    "pyplot.legend()\n",
    "pyplot.show()\n",
    "\n",
    "# make a prediction\n",
    "yhat = model.predict(test_X)\n",
    "\n",
    "# calculate RMSE\n",
    "rmse = sqrt(mean_squared_error(test_y, yhat))\n",
    "print('Test RMSE: %.3f' % rmse)"
   ]
  }
 ],
 "metadata": {
  "kernelspec": {
   "display_name": "Python 3 (ipykernel)",
   "language": "python",
   "name": "python3"
  },
  "language_info": {
   "codemirror_mode": {
    "name": "ipython",
    "version": 3
   },
   "file_extension": ".py",
   "mimetype": "text/x-python",
   "name": "python",
   "nbconvert_exporter": "python",
   "pygments_lexer": "ipython3",
   "version": "3.9.15"
  }
 },
 "nbformat": 4,
 "nbformat_minor": 2
}
